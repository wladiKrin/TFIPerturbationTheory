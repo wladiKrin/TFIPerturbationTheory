{
 "cells": [
  {
   "cell_type": "markdown",
   "metadata": {},
   "source": [
    "# Imports"
   ]
  },
  {
   "cell_type": "code",
   "execution_count": 1,
   "metadata": {},
   "outputs": [
    {
     "name": "stderr",
     "output_type": "stream",
     "text": [
      "\u001b[32m\u001b[1m  Activating\u001b[22m\u001b[39m project at `~/Projects/SW`\n"
     ]
    }
   ],
   "source": [
    "using Combinatorics\n",
    "include(\"../src/SW.jl\");"
   ]
  },
  {
   "cell_type": "code",
   "execution_count": 2,
   "id": "7a846716",
   "metadata": {},
   "outputs": [
    {
     "data": {
      "text/plain": [
       "find_inds (generic function with 1 method)"
      ]
     },
     "metadata": {},
     "output_type": "display_data"
    }
   ],
   "source": [
    "function find_inds(nInit, order::Int, V1)\n",
    "    is = nInit\n",
    "    curr_inds = nInit\n",
    "\n",
    "    for o in 1:order\n",
    "        next_inds = []\n",
    "        for i in curr_inds\n",
    "            inds, vals = findnz(V1[i,:])\n",
    "            push!(next_inds, inds)\n",
    "        end\n",
    "\n",
    "        curr_inds = filter(x->!(x ∈ is), rmDoubles(vcat(next_inds...)))\n",
    "        append!(is, curr_inds)\n",
    "    end\n",
    "\n",
    "    return rmDoubles(vcat(is...))\n",
    "end"
   ]
  },
  {
   "cell_type": "markdown",
   "metadata": {},
   "source": [
    "# 1st try: generate new configs from known configurations\n",
    "\n",
    "Doesn't work since that way all the basis states are generated"
   ]
  },
  {
   "cell_type": "code",
   "execution_count": 5,
   "metadata": {},
   "outputs": [
    {
     "data": {
      "text/plain": [
       "generate_configs (generic function with 1 method)"
      ]
     },
     "metadata": {},
     "output_type": "display_data"
    }
   ],
   "source": [
    "function iterate_through_diff(diff)\n",
    "    pos = []\n",
    "    for (n,s) in enumerate(diff)\n",
    "        abs(s) > 0 && push!(pos, n)\n",
    "    end\n",
    "    return Combinatorics.combinations(pos)\n",
    "end;\n",
    "\n",
    "function generate_configs(spin, pos)\n",
    "    return map(pos) do p\n",
    "        return spinflip(spin, p)\n",
    "    end\n",
    "end"
   ]
  },
  {
   "cell_type": "code",
   "execution_count": null,
   "metadata": {},
   "outputs": [],
   "source": [
    "iter = iterate_through_diff(abs.(spin_basis[476] .- spin_basis[205]))\n",
    "generate_configs(spin_basis[476], iter)"
   ]
  },
  {
   "cell_type": "code",
   "execution_count": null,
   "metadata": {},
   "outputs": [],
   "source": [
    "# is = [i for (i,dw) in enumerate(dw_precalc) if dw == 8];\n",
    "is = [145,205,251,285,336,370,416,476]\n",
    "\n",
    "configs = Dict()\n",
    "for (i,j) in Iterators.product(is,is)\n",
    "    j >= i && continue\n",
    "    for c in generate_configs(spin_basis[i], iterate_through_diff(abs.(spin_basis[i] .- spin_basis[j])))\n",
    "        configs[c] = true\n",
    "        # c ∈ configs && continue\n",
    "        # push!(configs, c)\n",
    "    end\n",
    "    \n",
    "    # append!(configs, generate_configs(spin_basis[i], iterate_through_diff(abs.(spin_basis[i] .- spin_basis[j]))))\n",
    "end\n",
    "configs"
   ]
  },
  {
   "cell_type": "markdown",
   "metadata": {},
   "source": [
    "# 2nd try: Take only N=8,10,12 spin-basis states and diagonalize resulting hamiltonian\n",
    "\n",
    "Doesn't really work"
   ]
  },
  {
   "cell_type": "code",
   "execution_count": 3,
   "metadata": {},
   "outputs": [
    {
     "name": "stdout",
     "output_type": "stream",
     "text": [
      "length(is) = 12817\n",
      "Starting caluclation of eigenvectors/-values"
     ]
    },
    {
     "name": "stdout",
     "output_type": "stream",
     "text": [
      "\n",
      "eigen: "
     ]
    },
    {
     "name": "stdout",
     "output_type": "stream",
     "text": [
      ": 2209.115584 seconds (1.23 M allocations: 4.980 GiB, 0.01% gc time, 0.02% compilation time)\n"
     ]
    },
    {
     "data": {
      "text/plain": [
       "\"./obs_Eff_new_L=(4_4)_J=-1_g=-0.5_h=-0.0.csv\""
      ]
     },
     "metadata": {},
     "output_type": "display_data"
    }
   ],
   "source": [
    "L= (4,4)\n",
    "N = prod(L);\n",
    "J = - 1;\n",
    "g = - 0.5\n",
    "h = - 0.\n",
    "\n",
    "next_neighbours = nearest_neighbours(L, collect(1:prod(L)))\n",
    "\n",
    "spin_basis = vec(collect(Iterators.product(fill([1,0],N)...)));\n",
    "dw_precalc = map(spin_basis) do spin\n",
    "    return domainWallL(spin, L)\n",
    "end\n",
    "\n",
    "spin_basis_tableFull = Dict(\n",
    "    map(enumerate(zip(spin_basis,dw_precalc))) do (i, (spin, dw))\n",
    "        return (spin, (i,dw))\n",
    "    end\n",
    ");\n",
    "\n",
    "\n",
    "### sort basis according to domain wall length ###\n",
    "sorted_spin_basis = sort(collect(zip(dw_precalc, spin_basis)), by = x->x[1])\n",
    "dw_precalc  = [d[1] for d in sorted_spin_basis]\n",
    "spin_basis  = [d[2] for d in sorted_spin_basis];\n",
    "ts = [0.0,0.1]\n",
    "step = 1.1\n",
    "tmax = 1e10\n",
    "\n",
    "### logarithmic timesteps ###\n",
    "while true\n",
    "    push!(ts, ts[end]*step)\n",
    "    ts[end] > tmax && break\n",
    "end\n",
    "\n",
    "# is6 = [i for (i,dw) in enumerate(dw_precalc) if dw == 6];\n",
    "# is8 = [i for (i,dw) in enumerate(dw_precalc) if dw == 8];\n",
    "# is10 = [i for (i,dw) in enumerate(dw_precalc) if dw == 10];\n",
    "# is12 = [i for (i,dw) in enumerate(dw_precalc) if dw == 12];\n",
    "# is14 = [i for (i,dw) in enumerate(dw_precalc) if dw == 14];\n",
    "# is = vcat(is6,is8,is10,is12)\n",
    "# @show length(is6)\n",
    "# @show length(is8)\n",
    "# @show length(is10)\n",
    "# @show length(is12)\n",
    "# @show length(is14)\n",
    "\n",
    "HInds, RInds = build_H1_R1(spin_basis, spin_basis_tableFull, (L,J,g,h));\n",
    "VInds = HInds+RInds;\n",
    "init_states_indices = [145,205,251,285,336,370,416,476]\n",
    "is = find_inds(init_states_indices, 4, VInds)\n",
    "@show length(is)\n",
    "\n",
    "dw_precalc  = [dw_precalc[i] for i in is]\n",
    "spin_basis  = [spin_basis[i] for i in is];\n",
    "# @show dw_precalc\n",
    "\n",
    "spin_basis_table = Dict(\n",
    "    map(enumerate(zip(spin_basis,dw_precalc))) do (i, (spin, dw))\n",
    "        return (spin, (i,dw))\n",
    "    end\n",
    ");\n",
    "\n",
    "domainWall_table = Dict(\n",
    "    map(enumerate(dw_precalc)) do (i,  dw)\n",
    "        return (i, dw)\n",
    "    end\n",
    ");\n",
    "\n",
    "### initial state ###\n",
    "init_spin = vcat(fill(1,Int(N/2)),fill(0,Int(N/2)))\n",
    "init_idx = first(spin_basis_table[Tuple(init_spin)])\n",
    "\n",
    "psi=zeros(length(spin_basis))\n",
    "psi[init_idx]=1\n",
    "psi = sparse(psi)\n",
    "\n",
    "### build Hamiltonians ###\n",
    "H0  = build_H0(spin_basis, next_neighbours, spin_basis_table, (L,J,g,h));\n",
    "H1, R1 = build_H1_R1(spin_basis, spin_basis_table, (L,J,g,h));\n",
    "V1 = H1+R1;\n",
    "H = H0+V1\n",
    "\n",
    "println(\"Starting caluclation of eigenvectors/-values\")\n",
    "@time \"eigen: \" vals, vecs = eigen(Matrix(H))\n",
    "dw = map(1:size(vecs)[2]) do i\n",
    "    absVals = abs2.(vecs[:,i])\n",
    "    return sum(absVals .* dw_precalc)\n",
    "end\n",
    "\n",
    "dfSpec = DataFrame(en = real.(vals), dw = dw, occ = real.(vecs[init_idx,:]))\n",
    "CSV.write(\"./spec_Eff_L=($(L[1])_$(L[2]))_J=$(J)_g=$(g)_h=$(h).csv\", dfSpec)\n",
    "\n",
    "psi = Transpose(vecs) * psi\n",
    "\n",
    "imb_precalc = map(s -> imbalance(s, L), spin_basis)\n",
    "data = Any[]\n",
    "\n",
    "for (t, tf) in zip(ts[1:end-1], ts[2:end])\n",
    "    dt = tf-t\n",
    "\n",
    "    psi_prime = vecs*psi\n",
    "\n",
    "    imb = mapreduce(+, enumerate(psi_prime)) do (i,psi_i)\n",
    "        α = abs2(psi_i)\n",
    "        return α * imb_precalc[i]\n",
    "    end\n",
    "\n",
    "    dwObs = real.(dot(psi_prime, H0 * psi_prime))\n",
    "\n",
    "    append!(data, [[t, imb, dwObs]])\n",
    "\n",
    "    # Propagate state\n",
    "    U = exp.(-1im*dt .* vals)\n",
    "    psi = U .* psi\n",
    "#vecs = sort([(i,p) for (i,p) in enumerate(abs2.(psi_prime)) if p>1e-3], by=x->x[2], rev=true)\n",
    "#@show [v[1] for v in vecs]\n",
    "end\n",
    "\n",
    "df = DataFrame(t = [real(d[1]) for d in data], imb = [real(d[2]) for d in data], N = [real(d[3]) for d in data])\n",
    "CSV.write(\"./obs_Eff_new_L=($(L[1])_$(L[2]))_J=$(J)_g=$(g)_h=$(h).csv\", df)"
   ]
  },
  {
   "cell_type": "code",
   "execution_count": 8,
   "id": "c6e9cdc8",
   "metadata": {},
   "outputs": [
    {
     "data": {
      "text/plain": [
       "(0.9068857214208457, 197)"
      ]
     },
     "metadata": {},
     "output_type": "display_data"
    }
   ],
   "source": [
    "findmax(abs.(dfSpec[:,\"occ\"]))"
   ]
  },
  {
   "cell_type": "code",
   "execution_count": 9,
   "id": "873c3f09",
   "metadata": {},
   "outputs": [
    {
     "data": {
      "text/html": [
       "<div><div style = \"float: left;\"><span>DataFrameRow (3 columns)</span></div><div style = \"clear: both;\"></div></div><div class = \"data-frame\" style = \"overflow-x: scroll;\"><table class = \"data-frame\" style = \"margin-bottom: 6px;\"><thead><tr class = \"header\"><th class = \"rowLabel\" style = \"font-weight: bold; text-align: right;\">Row</th><th style = \"text-align: left;\">en</th><th style = \"text-align: left;\">dw</th><th style = \"text-align: left;\">occ</th></tr><tr class = \"subheader headerLastRow\"><th class = \"rowLabel\" style = \"font-weight: bold; text-align: right;\"></th><th title = \"Float64\" style = \"text-align: left;\">Float64</th><th title = \"Float64\" style = \"text-align: left;\">Float64</th><th title = \"Float64\" style = \"text-align: left;\">Float64</th></tr></thead><tbody><tr><td class = \"rowLabel\" style = \"font-weight: bold; text-align: right;\">197</td><td style = \"text-align: right;\">-16.7318</td><td style = \"text-align: right;\">8.34399</td><td style = \"text-align: right;\">-0.906886</td></tr></tbody></table></div>"
      ],
      "text/latex": [
       "\\begin{tabular}{r|ccc}\n",
       "\t& en & dw & occ\\\\\n",
       "\t\\hline\n",
       "\t& Float64 & Float64 & Float64\\\\\n",
       "\t\\hline\n",
       "\t197 & -16.7318 & 8.34399 & -0.906886 \\\\\n",
       "\\end{tabular}\n"
      ],
      "text/plain": [
       "\u001b[1mDataFrameRow\u001b[0m\n",
       "\u001b[1m Row \u001b[0m│\u001b[1m en       \u001b[0m\u001b[1m dw      \u001b[0m\u001b[1m occ       \u001b[0m\n",
       "     │\u001b[90m Float64  \u001b[0m\u001b[90m Float64 \u001b[0m\u001b[90m Float64   \u001b[0m\n",
       "─────┼──────────────────────────────\n",
       " 197 │ -16.7318  8.34399  -0.906886"
      ]
     },
     "metadata": {},
     "output_type": "display_data"
    }
   ],
   "source": [
    "dfSpec[findmax(abs.(dfSpec[:,\"occ\"]))[2],:]"
   ]
  },
  {
   "cell_type": "markdown",
   "metadata": {},
   "source": [
    "Compare spectra of effective and full model"
   ]
  },
  {
   "cell_type": "markdown",
   "metadata": {},
   "source": [
    "### Generalize building spin states with fixed domain wall length for any lattice size"
   ]
  },
  {
   "cell_type": "markdown",
   "metadata": {},
   "source": [
    "In an $L \\times L$ lattice with PBC, the number of possibilities to place N domain walls is given by $\\frac{(2L^2) !}{N! (2L^2-N)!}$. However, out of those we need to pick out those that are connected."
   ]
  },
  {
   "cell_type": "code",
   "execution_count": 15,
   "metadata": {},
   "outputs": [
    {
     "data": {
      "text/plain": [
       "nPossibleStates (generic function with 1 method)"
      ]
     },
     "metadata": {},
     "output_type": "display_data"
    }
   ],
   "source": [
    "function nPossibleStates(L::Int, N::Int)\n",
    "    return binomial(2*L^2, N)\n",
    "end"
   ]
  },
  {
   "cell_type": "code",
   "execution_count": 18,
   "metadata": {},
   "outputs": [
    {
     "data": {
      "text/plain": [
       "1429702652400"
      ]
     },
     "metadata": {},
     "output_type": "display_data"
    }
   ],
   "source": [
    "nPossibleStates(8,8)"
   ]
  },
  {
   "cell_type": "code",
   "execution_count": 19,
   "metadata": {},
   "outputs": [
    {
     "data": {
      "text/plain": [
       "424-element Vector{NTuple{16, Int64}}:\n",
       " (0, 1, 0, 1, 1, 1, 1, 1, 1, 1, 1, 1, 1, 1, 1, 1)\n",
       " (0, 0, 0, 1, 1, 1, 1, 1, 1, 1, 1, 1, 1, 1, 1, 1)\n",
       " (1, 0, 1, 0, 1, 1, 1, 1, 1, 1, 1, 1, 1, 1, 1, 1)\n",
       " (0, 0, 1, 0, 1, 1, 1, 1, 1, 1, 1, 1, 1, 1, 1, 1)\n",
       " (0, 1, 0, 0, 1, 1, 1, 1, 1, 1, 1, 1, 1, 1, 1, 1)\n",
       " (1, 0, 0, 0, 1, 1, 1, 1, 1, 1, 1, 1, 1, 1, 1, 1)\n",
       " (0, 0, 0, 0, 1, 1, 1, 1, 1, 1, 1, 1, 1, 1, 1, 1)\n",
       " (1, 0, 1, 1, 0, 1, 1, 1, 1, 1, 1, 1, 1, 1, 1, 1)\n",
       " (0, 0, 1, 1, 0, 1, 1, 1, 1, 1, 1, 1, 1, 1, 1, 1)\n",
       " (1, 1, 0, 1, 0, 1, 1, 1, 1, 1, 1, 1, 1, 1, 1, 1)\n",
       " ⋮\n",
       " (1, 1, 0, 0, 1, 0, 0, 0, 0, 0, 0, 0, 0, 0, 0, 0)\n",
       " (0, 1, 0, 0, 1, 0, 0, 0, 0, 0, 0, 0, 0, 0, 0, 0)\n",
       " (1, 1, 1, 1, 0, 0, 0, 0, 0, 0, 0, 0, 0, 0, 0, 0)\n",
       " (0, 1, 1, 1, 0, 0, 0, 0, 0, 0, 0, 0, 0, 0, 0, 0)\n",
       " (1, 0, 1, 1, 0, 0, 0, 0, 0, 0, 0, 0, 0, 0, 0, 0)\n",
       " (1, 1, 0, 1, 0, 0, 0, 0, 0, 0, 0, 0, 0, 0, 0, 0)\n",
       " (0, 1, 0, 1, 0, 0, 0, 0, 0, 0, 0, 0, 0, 0, 0, 0)\n",
       " (1, 1, 1, 0, 0, 0, 0, 0, 0, 0, 0, 0, 0, 0, 0, 0)\n",
       " (1, 0, 1, 0, 0, 0, 0, 0, 0, 0, 0, 0, 0, 0, 0, 0)"
      ]
     },
     "metadata": {},
     "output_type": "display_data"
    }
   ],
   "source": [
    "spin_basis = vec(collect(Iterators.product(fill([1,0],N)...)));\n",
    "dw_precalc = map(spin_basis) do spin\n",
    "    return domainWallL(spin, L)\n",
    "end\n",
    "is8 = [i for (i,dw) in enumerate(dw_precalc) if dw == 8];\n",
    "spin_basis  = [spin_basis[i] for i in is8]"
   ]
  },
  {
   "cell_type": "code",
   "execution_count": 56,
   "metadata": {},
   "outputs": [
    {
     "data": {
      "text/plain": [
       "rotate (generic function with 1 method)"
      ]
     },
     "metadata": {},
     "output_type": "display_data"
    }
   ],
   "source": [
    "function translate_x(spin_config)\n",
    "    spinMatr = Transpose(toSpinMatr(spin_config))\n",
    "    res = map(vcat(2:size(spinMatr)[2],1)) do i\n",
    "        return spinMatr[i,:]\n",
    "    end\n",
    "    return Tuple(vec(Transpose(permutedims(hcat(res...)))))\n",
    "end\n",
    "\n",
    "function translate_y(spin_config)\n",
    "    spinMatr = toSpinMatr(spin_config)\n",
    "    res = map(vcat(2:size(spinMatr)[2],1)) do i\n",
    "        return spinMatr[i,:]\n",
    "    end\n",
    "    return Tuple(vec(permutedims(hcat(res...))))\n",
    "end\n",
    "\n",
    "function mirror_x(spin_config)\n",
    "    spinMatr = Transpose(toSpinMatr(spin_config))\n",
    "    s = size(spinMatr)[2]\n",
    "    res = map(1:s) do i\n",
    "        return spinMatr[s+1-i,:]\n",
    "    end\n",
    "    return Tuple(vec(Transpose(permutedims(hcat(res...)))))\n",
    "end\n",
    "\n",
    "function mirror_y(spin_config)\n",
    "    spinMatr = toSpinMatr(spin_config)\n",
    "    s = size(spinMatr)[2]\n",
    "    res = map(1:s) do i\n",
    "        return spinMatr[s+1-i,:]\n",
    "    end\n",
    "    return Tuple(vec(permutedims(hcat(res...))))\n",
    "end\n",
    "\n",
    "function parity(spin_config)\n",
    "    return Tuple([(s+1)%2 for s in spin_config])\n",
    "end\n",
    "\n",
    "function transpose(spin_config)\n",
    "    return Tuple(vec(Transpose(toSpinMatr(spin_config))))\n",
    "end\n",
    "\n",
    "function rotate(spin_config)\n",
    "    return transpose(mirror_x(spin_config))\n",
    "end"
   ]
  },
  {
   "cell_type": "code",
   "execution_count": null,
   "metadata": {},
   "outputs": [],
   "source": [
    "function generate_states(states, L)\n",
    "    funcs = [translate_x, translate_y, mirror_x, mirror_y, parity, transpose, rotate]\n",
    "    map(states) do s\n",
    "end\n",
    "let \n",
    "    init_states = [\n",
    "        (0, 1, 0, 1, 1, 1, 1, 1, 1, 1, 1, 1, 1, 1, 1, 1),\n",
    "        (0, 1, 1, 1, 1, 0, 1, 1, 1, 1, 1, 1, 1, 1, 1, 1),\n",
    "        (0, 1, 1, 1, 1, 1, 0, 1, 1, 1, 1, 1, 1, 1, 1, 1),\n",
    "        (0, 1, 1, 1, 1, 1, 1, 0, 1, 1, 1, 1, 1, 1, 1, 1),\n",
    "        (0, 1, 1, 1, 1, 1, 1, 1, 1, 1, 0, 1, 1, 1, 1, 1),\n",
    "        (0, 0, 0, 0, 1, 1, 1, 1, 1, 1, 1, 1, 1, 1, 1, 1),\n",
    "        (0, 0, 0, 0, 0, 0, 0, 0, 1, 1, 1, 1, 1, 1, 1, 1),\n",
    "    ]\n",
    "end"
   ]
  },
  {
   "cell_type": "markdown",
   "metadata": {},
   "source": [
    "# Try via perturbation theory"
   ]
  },
  {
   "cell_type": "code",
   "execution_count": 4,
   "metadata": {},
   "outputs": [
    {
     "data": {
      "text/plain": [
       "65536×65536 SparseMatrixCSC{Float64, Int64} with 1093572 stored entries:\n",
       "⎡⣿⣿⣿⣿⣿⣗⣒⣒⡲⢶⡴⣤⣤⣤⣀⣀⢀⡀⠀⠀⡀⠀⠀⠀⠀⠀⠀⠀⠀⠀⠀⠀⠀⠀⠀⠀⠀⠀⠀⠀⎤\n",
       "⎢⣿⣿⣿⣿⣧⡌⢛⢿⢿⣶⣙⣲⡠⠀⠉⠛⠒⠿⡧⣤⣀⣘⡀⠀⠀⠀⠀⠀⠀⠀⠀⠀⠀⠀⠀⠀⠀⠀⠀⠀⎥\n",
       "⎢⢿⢿⡉⠿⢿⣷⣈⡈⡓⢮⠻⣽⣿⣤⣀⣀⢀⡀⠂⢠⡀⠙⢯⡛⢶⣦⣄⣀⡀⠀⣀⠀⠀⠀⠀⠀⠀⠀⠀⠀⎥\n",
       "⎢⢸⢸⣿⣔⡂⠸⣿⣿⣱⣌⠳⣄⠀⠈⢙⣿⣷⣙⡦⣄⠙⠲⣄⡀⠀⠀⠻⣧⣙⠂⠀⠦⠀⠀⠀⠀⠀⠀⠀⠀⎥\n",
       "⎢⢸⣎⢻⣷⡹⣌⡑⢾⢿⣷⣀⢈⠳⡄⠀⠲⣜⠿⣿⣷⣀⣀⠀⣉⠐⠂⠀⠈⢹⣷⣄⣀⠀⠀⠀⠀⠀⠀⠀⠀⎥\n",
       "⎢⠐⣯⢳⣸⣟⣦⠙⢦⡀⢘⣿⣿⣓⡦⠘⠂⢤⣀⠀⠀⣻⢿⣿⣎⣓⡀⠀⠀⠀⠀⠙⠿⣦⡀⠀⠀⠀⠀⠀⠀⎥\n",
       "⎢⠀⣿⠀⠊⠛⣿⡀⠀⠙⠦⠹⡼⣿⣿⣀⣀⠀⡈⠓⢦⠈⠙⢦⡻⣿⣶⣄⣀⡈⠣⡄⠰⣌⣿⣆⡀⡀⠀⠀⠀⎥\n",
       "⎢⠀⢸⣧⠀⠀⢸⣷⣴⢠⡀⠲⠀⠀⢸⡿⣯⣷⠙⢦⡀⠙⢦⡀⠀⠀⠀⠻⣷⠹⣄⠙⢦⠀⠀⢻⠳⠩⡄⠀⠀⎥\n",
       "⎢⠀⠰⣼⡄⠀⠰⣝⢻⣶⡝⠀⢳⡀⠠⣝⠛⢻⣶⣦⣙⠀⠀⠙⢦⡀⠀⠙⠛⣶⣾⠂⠈⠱⠀⠘⣧⠀⠀⠀⠀⎥\n",
       "⎢⠀⠀⠉⣯⠈⣀⠈⢯⢿⣿⠀⠀⠹⣄⠈⠳⣌⢻⣿⣿⠀⠀⠀⠀⠙⢦⠐⢦⢯⣿⡆⠀⠀⠘⠀⢜⡇⠀⠀⠀⎥\n",
       "⎢⠀⠈⣀⢸⣄⠈⢳⡀⠀⢸⣿⣞⣆⠀⠳⣄⠀⠀⠀⠀⣿⣿⣧⡙⢦⡀⢠⠀⠀⠀⢿⣟⢾⠦⠀⠀⢻⡃⠀⠀⎥\n",
       "⎢⠀⠀⠀⠈⣯⠳⠀⠹⡄⢠⡻⢿⣬⡳⠀⠈⠳⣄⠀⠀⣍⠻⠿⣧⣤⣝⠂⠰⣀⠀⢼⠿⢷⣤⡀⠀⠘⢿⠀⠀⎥\n",
       "⎢⠀⠀⠀⠀⠸⣷⠀⠀⠰⠀⠙⠸⢻⣿⠀⠀⠀⠈⠳⣄⠈⠳⣄⢿⣻⣾⡇⠀⠈⢧⡈⢳⡸⣿⡆⠘⡐⣞⡇⠀⎥\n",
       "⎢⠀⠀⠀⠀⠀⢹⠿⣦⡀⠀⠀⠀⠀⢹⢿⣦⣷⠀⠰⣄⠀⠒⢈⡀⠉⠉⣿⣿⣙⣦⡙⠢⣍⠉⣿⣿⡽⣌⣿⠆⎥\n",
       "⎢⠀⠀⠀⠀⠀⠈⠳⠘⢷⣶⠀⠀⠦⡈⠓⢦⣸⣿⣯⣷⠀⠀⠀⠘⠦⣄⠳⣼⣿⣿⡆⠀⠈⢣⣠⣿⡅⠈⢼⠀⎥\n",
       "⎢⠀⠀⠀⠀⠀⠘⠠⡄⠀⢹⣷⡄⢀⡉⠳⣄⡈⠀⠈⠉⣿⢷⣶⡗⢦⣈⠳⡈⠈⠉⣿⣿⣾⢦⡤⠉⢿⡿⠼⡇⎥\n",
       "⎢⠀⠀⠀⠀⠀⠀⠀⠀⠀⠀⠈⠻⣦⣽⠀⠀⠑⠂⣀⠀⠺⡗⠙⣷⣶⣮⡇⠙⠦⣀⠺⣟⢻⣶⡏⢧⣺⣻⣦⡇⎥\n",
       "⎢⠀⠀⠀⠀⠀⠀⠀⠀⠀⠀⠀⠀⠈⠹⢿⡒⠶⣤⣀⢄⠀⠀⠀⠈⣈⠉⣿⣿⣤⣾⡄⠋⠯⣍⣿⣿⡟⢻⣿⣿⎥\n",
       "⎢⠀⠀⠀⠀⠀⠀⠀⠀⠀⠀⠀⠀⠀⠈⠃⠦⠀⠀⠉⠉⠿⠲⣶⣄⣰⢬⡓⢯⡁⠉⣿⡷⣾⣺⣿⣉⣿⣿⣿⣿⎥\n",
       "⎣⠀⠀⠀⠀⠀⠀⠀⠀⠀⠀⠀⠀⠀⠀⠀⠀⠀⠀⠀⠀⠀⠀⠀⠀⠉⠉⠻⠟⠒⠓⠶⠧⠬⠿⣿⣿⣿⣿⣿⣿⎦"
      ]
     },
     "metadata": {},
     "output_type": "display_data"
    }
   ],
   "source": [
    "L= (4,4)\n",
    "N = prod(L);\n",
    "J = -1;\n",
    "g = -0.1\n",
    "h = -0.\n",
    "\n",
    "next_neighbours = nearest_neighbours(L, collect(1:prod(L)))\n",
    "\n",
    "spin_basis = vec(collect(Iterators.product(fill([1,0],N)...)));\n",
    "dw_precalc = map(spin_basis) do spin\n",
    "    return domainWallL(spin, L)\n",
    "end\n",
    "\n",
    "### sort basis according to domain wall length ###\n",
    "sorted_spin_basis = sort(collect(zip(dw_precalc, spin_basis)), by = x->x[1])\n",
    "dw_precalc  = [d[1] for d in sorted_spin_basis]\n",
    "spin_basis  = [d[2] for d in sorted_spin_basis];\n",
    "ts = [0.0,0.1]\n",
    "step = 1.1\n",
    "tmax = 1e10\n",
    "\n",
    "### logarithmic timesteps ###\n",
    "while true\n",
    "    push!(ts, ts[end]*step)\n",
    "    ts[end] > tmax && break\n",
    "end\n",
    "\n",
    "spin_basis_table = Dict(\n",
    "    map(enumerate(zip(spin_basis,dw_precalc))) do (i, (spin, dw))\n",
    "        return (spin, (i,dw))\n",
    "    end\n",
    ");\n",
    "\n",
    "domainWall_table = Dict(\n",
    "    map(enumerate(dw_precalc)) do (i,  dw)\n",
    "        return (i, dw)\n",
    "    end\n",
    ");\n",
    "\n",
    "### initial state ###\n",
    "init_spin = vcat(fill(1,Int(N/2)),fill(0,Int(N/2)))\n",
    "init_idx = first(spin_basis_table[Tuple(init_spin)])\n",
    "\n",
    "init_states_indices = [145,205,251,285,336,370,416,476]\n",
    "\n",
    "\n",
    "# psi=zeros(length(spin_basis))\n",
    "# psi[init_idx]=1\n",
    "# psi = sparse(psi)\n",
    "\n",
    "# ### build Hamiltonians ###\n",
    "H0  = build_H0(spin_basis, next_neighbours, spin_basis_table, (L,J,g,h));\n",
    "H1, R1 = build_H1_R1(spin_basis, spin_basis_table, (L,J,g,h));\n",
    "V1 = sparse(H1+R1);\n",
    "H = H0+V1\n",
    "\n",
    "# println(\"Starting caluclation of eigenvectors/-values\")\n",
    "# @time \"eigen: \" vals, vecs = eigen(Matrix(H))\n",
    "# dw = map(1:size(vecs)[2]) do i\n",
    "#     absVals = abs2.(vecs[:,i])\n",
    "#     return sum(absVals .* dw_precalc)\n",
    "# end\n",
    "\n",
    "# dfSpec = DataFrame(en = real.(vals), dw = dw, occ = real.(vecs[init_idx,:]))\n",
    "# CSV.write(\"./spec_Eff_L=($(L[1])_$(L[2]))_J=$(J)_g=$(g)_h=$(h).csv\", dfSpec)"
   ]
  },
  {
   "cell_type": "code",
   "execution_count": 23,
   "metadata": {},
   "outputs": [
    {
     "data": {
      "text/plain": [
       "65536-element SparseVector{Float64, Int64} with 16 stored entries:\n",
       "  [566 ]  =  0.025\n",
       "  [589 ]  =  0.025\n",
       "  [603 ]  =  0.025\n",
       "  [610 ]  =  0.025\n",
       "  [616 ]  =  0.025\n",
       "  [619 ]  =  0.025\n",
       "  [621 ]  =  0.025\n",
       "          ⋮\n",
       "  [648 ]  =  0.025\n",
       "  [674 ]  =  0.025\n",
       "  [717 ]  =  0.025\n",
       "  [770 ]  =  0.025\n",
       "  [880 ]  =  0.025\n",
       "  [962 ]  =  0.025\n",
       "  [1142]  =  0.025\n",
       "  [1412]  =  0.025"
      ]
     },
     "metadata": {},
     "output_type": "display_data"
    }
   ],
   "source": [
    "function first_order_states(nState, basis_states, H0, V)\n",
    "    inds, vals = findnz(V[nState,:])\n",
    "    vals = map(zip(inds, vals)) do (i,v)\n",
    "        return v/(H0[nState,nState]-H0[i,i])\n",
    "    end\n",
    "    return SparseVector(length(basis_states), inds, vals)\n",
    "end\n",
    "\n",
    "first_order_states(145, spin_basis, H0, V1)"
   ]
  },
  {
   "cell_type": "code",
   "execution_count": 24,
   "metadata": {},
   "outputs": [
    {
     "data": {
      "text/plain": [
       "0"
      ]
     },
     "metadata": {},
     "output_type": "display_data"
    }
   ],
   "source": [
    "function first_order_energy(nState, basis_states, H0, V)\n",
    "    return 0\n",
    "end\n",
    "\n",
    "first_order_energy(145, spin_basis, H0, V1)"
   ]
  },
  {
   "cell_type": "code",
   "execution_count": null,
   "metadata": {},
   "outputs": [],
   "source": []
  }
 ],
 "metadata": {
  "kernelspec": {
   "display_name": "Julia 1.9.2",
   "language": "julia",
   "name": "julia-1.9"
  },
  "language_info": {
   "file_extension": ".jl",
   "mimetype": "application/julia",
   "name": "julia",
   "version": "1.9.2"
  }
 },
 "nbformat": 4,
 "nbformat_minor": 5
}
